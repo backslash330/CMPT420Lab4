{
 "cells": [
  {
   "cell_type": "code",
   "execution_count": 1,
   "metadata": {},
   "outputs": [],
   "source": [
    "# Write a function Secant(f, x0, x1, maxSteps, almostZero) in sage where\n",
    "# f is a continuous function in variable x\n",
    "# x0 and x1 are real numbers,\n",
    "# maxSteps is maximum number of iterations we allot before aborting, and\n",
    "# almostZero is our value such that if | f(xn)| < almostZero, we stop."
   ]
  },
  {
   "cell_type": "code",
   "execution_count": 9,
   "metadata": {},
   "outputs": [
    {
     "name": "stdout",
     "output_type": "stream",
     "text": [
      "steps =  5\n",
      "solution =  4.430274898\n",
      "Error: Division by zero\n",
      "steps =  1\n",
      "solution =  1.570796327\n"
     ]
    }
   ],
   "source": [
    "def printSecant(f, x0, x1, maxSteps, almostZero ):\n",
    "    #then we compute the iterations\n",
    "    #and stop when we get a \"good\" approximation\n",
    "    #or tried too many steps\n",
    "    # make sure functions have solutions\n",
    "    try: \n",
    "        firstSolution = f(x0)\n",
    "        secondSolution = f(x1)\n",
    "    except:\n",
    "        print(\"Error: No solutions at x0 = \", x0, \" or x1 = \", x1)\n",
    "        return\n",
    "    try:\n",
    "        x2 = x1-f(x1)*((x1-x0)/(f(x1)-f(x0)))\n",
    "    except:\n",
    "        print(\"Error: Division by zero\")\n",
    "        return\n",
    "    steps = 1\n",
    "    while( steps<maxSteps and abs(f(x2))>almostZero ) :\n",
    "        steps = steps + 1\n",
    "        #save the values of x1 and x2 into x0 and x1\n",
    "        x0=x1\n",
    "        x1=x2\n",
    "        #compute the new value of x2\n",
    "        try: \n",
    "            firstSolution = f(x0)\n",
    "            secondSolution = f(x1)\n",
    "        except:\n",
    "            print(\"Error: No solutions at x0 = \", x0, \" or x1 = \", x1)\n",
    "            return\n",
    "        try:\n",
    "            x2 = x1-f(x1)*((x1-x0)/(f(x1)-f(x0)))\n",
    "        except:\n",
    "            print(\"Error: Division by zero\")\n",
    "            return\n",
    "    if( abs(f(x2))<= almostZero ) :\n",
    "        print('steps = ', steps)\n",
    "        print ('solution = ', x2.n(digits=10))\n",
    "    elif (steps<maxSteps):\n",
    "        print ('ERROR: max number of steps!')\n",
    "# f(x) = x^2 - 4*sin(x) # ISSUES HERE!!!!!\n",
    "# printSecant(f, 2.2, 2, 10, 0.000000000001)\n",
    "f(x) = e^x+3-1*x^3\n",
    "printSecant(f, 4.5, 5, 10, 0.000001)\n",
    "f(x) = sin(x) # div by zero check\n",
    "printSecant(f, pi/2, 5*pi/2, 100, 0.000001)\n",
    "f(x)= cos(x) # solves fine\n",
    "printSecant(f, pi/2, 0, 10, 0.000001)\n"
   ]
  }
 ],
 "metadata": {
  "kernelspec": {
   "display_name": "SageMath 9.5",
   "language": "sage",
   "name": "sagemath"
  },
  "language_info": {
   "codemirror_mode": {
    "name": "ipython",
    "version": 3
   },
   "file_extension": ".py",
   "mimetype": "text/x-python",
   "name": "python",
   "nbconvert_exporter": "python",
   "pygments_lexer": "ipython3",
   "version": "3.9.9"
  },
  "orig_nbformat": 4,
  "vscode": {
   "interpreter": {
    "hash": "25a19fbe0a9132dfb9279d48d161753c6352f8f9478c2e74383d340069b907c3"
   }
  }
 },
 "nbformat": 4,
 "nbformat_minor": 2
}
